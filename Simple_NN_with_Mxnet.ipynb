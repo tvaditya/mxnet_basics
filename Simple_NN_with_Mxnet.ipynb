{
  "nbformat": 4,
  "nbformat_minor": 0,
  "metadata": {
    "colab": {
      "name": "Simple_NN_with-Mxnet.ipynb",
      "version": "0.3.2",
      "provenance": []
    },
    "kernelspec": {
      "name": "python3",
      "display_name": "Python 3"
    }
  },
  "cells": [
    {
      "metadata": {
        "id": "aGAfoyI5XOQ7",
        "colab_type": "code",
        "colab": {
          "base_uri": "https://localhost:8080/",
          "height": 171
        },
        "outputId": "53a1aefd-3022-49c6-ae54-9381202c7b41"
      },
      "cell_type": "code",
      "source": [
        "!pip install mxnet"
      ],
      "execution_count": 1,
      "outputs": [
        {
          "output_type": "stream",
          "text": [
            "Requirement already satisfied: mxnet in /usr/local/lib/python3.6/dist-packages (1.3.1)\n",
            "Requirement already satisfied: numpy<1.15.0,>=1.8.2 in /usr/local/lib/python3.6/dist-packages (from mxnet) (1.14.6)\n",
            "Requirement already satisfied: requests>=2.20.0 in /usr/local/lib/python3.6/dist-packages (from mxnet) (2.21.0)\n",
            "Requirement already satisfied: graphviz<0.9.0,>=0.8.1 in /usr/local/lib/python3.6/dist-packages (from mxnet) (0.8.4)\n",
            "Requirement already satisfied: certifi>=2017.4.17 in /usr/local/lib/python3.6/dist-packages (from requests>=2.20.0->mxnet) (2018.11.29)\n",
            "Requirement already satisfied: idna<2.9,>=2.5 in /usr/local/lib/python3.6/dist-packages (from requests>=2.20.0->mxnet) (2.6)\n",
            "Requirement already satisfied: urllib3<1.25,>=1.21.1 in /usr/local/lib/python3.6/dist-packages (from requests>=2.20.0->mxnet) (1.22)\n",
            "Requirement already satisfied: chardet<3.1.0,>=3.0.2 in /usr/local/lib/python3.6/dist-packages (from requests>=2.20.0->mxnet) (3.0.4)\n"
          ],
          "name": "stdout"
        }
      ]
    },
    {
      "metadata": {
        "id": "mj-y2iaqXgV_",
        "colab_type": "code",
        "colab": {}
      },
      "cell_type": "code",
      "source": [
        "from mxnet import nd\n",
        "from mxnet.gluon import nn"
      ],
      "execution_count": 0,
      "outputs": []
    },
    {
      "metadata": {
        "id": "iAe3wp2tXgag",
        "colab_type": "code",
        "colab": {
          "base_uri": "https://localhost:8080/",
          "height": 34
        },
        "outputId": "b7caeded-6191-45b0-cdd0-9284c3e17465"
      },
      "cell_type": "code",
      "source": [
        "layer = nn.Dense(2)\n",
        "layer"
      ],
      "execution_count": 3,
      "outputs": [
        {
          "output_type": "execute_result",
          "data": {
            "text/plain": [
              "Dense(None -> 2, linear)"
            ]
          },
          "metadata": {
            "tags": []
          },
          "execution_count": 3
        }
      ]
    },
    {
      "metadata": {
        "id": "4EZQ41U7XgqW",
        "colab_type": "code",
        "colab": {}
      },
      "cell_type": "code",
      "source": [
        "\n",
        "layer.initialize()"
      ],
      "execution_count": 0,
      "outputs": []
    },
    {
      "metadata": {
        "id": "F143Rww_Xgtr",
        "colab_type": "code",
        "colab": {
          "base_uri": "https://localhost:8080/",
          "height": 101
        },
        "outputId": "3f378abc-97f2-42a1-ba8f-6109f05361a3"
      },
      "cell_type": "code",
      "source": [
        "x = nd.random.uniform(-1,1,(3,4))\n",
        "x"
      ],
      "execution_count": 5,
      "outputs": [
        {
          "output_type": "execute_result",
          "data": {
            "text/plain": [
              "\n",
              "[[ 0.09762704  0.18568921  0.43037868  0.6885315 ]\n",
              " [ 0.20552671  0.71589124  0.08976638  0.6945034 ]\n",
              " [-0.15269041  0.24712741  0.29178822 -0.23123658]]\n",
              "<NDArray 3x4 @cpu(0)>"
            ]
          },
          "metadata": {
            "tags": []
          },
          "execution_count": 5
        }
      ]
    },
    {
      "metadata": {
        "id": "X6530f7EXg7w",
        "colab_type": "code",
        "colab": {
          "base_uri": "https://localhost:8080/",
          "height": 101
        },
        "outputId": "0a9cc49d-1711-4e7f-b9c9-4c7d254ade6b"
      },
      "cell_type": "code",
      "source": [
        "layer(x)"
      ],
      "execution_count": 6,
      "outputs": [
        {
          "output_type": "execute_result",
          "data": {
            "text/plain": [
              "\n",
              "[[-0.02524132 -0.00874885]\n",
              " [-0.06026538 -0.01308061]\n",
              " [ 0.02468396 -0.02181557]]\n",
              "<NDArray 3x2 @cpu(0)>"
            ]
          },
          "metadata": {
            "tags": []
          },
          "execution_count": 6
        }
      ]
    },
    {
      "metadata": {
        "id": "cdjNUULMYMR3",
        "colab_type": "code",
        "colab": {
          "base_uri": "https://localhost:8080/",
          "height": 84
        },
        "outputId": "53552637-09bd-4e05-a93d-f1af043b589c"
      },
      "cell_type": "code",
      "source": [
        "layer.weight.data()"
      ],
      "execution_count": 7,
      "outputs": [
        {
          "output_type": "execute_result",
          "data": {
            "text/plain": [
              "\n",
              "[[-0.00873779 -0.02834515  0.05484822 -0.06206018]\n",
              " [ 0.06491279 -0.03182812 -0.01631819 -0.00312688]]\n",
              "<NDArray 2x4 @cpu(0)>"
            ]
          },
          "metadata": {
            "tags": []
          },
          "execution_count": 7
        }
      ]
    },
    {
      "metadata": {
        "id": "YFMQxGcFZdmN",
        "colab_type": "code",
        "colab": {}
      },
      "cell_type": "code",
      "source": [
        "\n",
        "net = nn.Sequential()\n",
        "# Add a sequence of layers.\n",
        "net.add(# Similar to Dense, it is not necessary to specify the input channels\n",
        "        # by the argument `in_channels`, which will be  automatically inferred\n",
        "        # in the first forward pass. Also, we apply a relu activation on the\n",
        "        # output. In addition, we can use a tuple to specify a  non-square\n",
        "        # kernel size, such as `kernel_size=(2,4)`\n",
        "        nn.Conv2D(channels=6, kernel_size=5, activation='relu'),\n",
        "        # One can also use a tuple to specify non-symmetric pool and stride sizes\n",
        "        nn.MaxPool2D(pool_size=2, strides=2),\n",
        "        nn.Conv2D(channels=16, kernel_size=3, activation='relu'),\n",
        "        nn.MaxPool2D(pool_size=2, strides=2),\n",
        "        # The dense layer will automatically reshape the 4-D output of last\n",
        "        # max pooling layer into the 2-D shape: (x.shape[0], x.size/x.shape[0])\n",
        "        nn.Dense(120, activation=\"relu\"),\n",
        "        nn.Dense(84, activation=\"relu\"),\n",
        "        nn.Dense(10))"
      ],
      "execution_count": 0,
      "outputs": []
    },
    {
      "metadata": {
        "id": "HjDuZVVlZfGF",
        "colab_type": "code",
        "colab": {
          "base_uri": "https://localhost:8080/",
          "height": 168
        },
        "outputId": "8b88d443-e494-4cd3-d912-b1519917d47a"
      },
      "cell_type": "code",
      "source": [
        "net"
      ],
      "execution_count": 9,
      "outputs": [
        {
          "output_type": "execute_result",
          "data": {
            "text/plain": [
              "Sequential(\n",
              "  (0): Conv2D(None -> 6, kernel_size=(5, 5), stride=(1, 1))\n",
              "  (1): MaxPool2D(size=(2, 2), stride=(2, 2), padding=(0, 0), ceil_mode=False)\n",
              "  (2): Conv2D(None -> 16, kernel_size=(3, 3), stride=(1, 1))\n",
              "  (3): MaxPool2D(size=(2, 2), stride=(2, 2), padding=(0, 0), ceil_mode=False)\n",
              "  (4): Dense(None -> 120, Activation(relu))\n",
              "  (5): Dense(None -> 84, Activation(relu))\n",
              "  (6): Dense(None -> 10, linear)\n",
              ")"
            ]
          },
          "metadata": {
            "tags": []
          },
          "execution_count": 9
        }
      ]
    },
    {
      "metadata": {
        "id": "y4oOBIlaZs0y",
        "colab_type": "code",
        "colab": {
          "base_uri": "https://localhost:8080/",
          "height": 34
        },
        "outputId": "85218c69-ff54-4769-801f-35481cb184b8"
      },
      "cell_type": "code",
      "source": [
        "net.initialize()\n",
        "# Input shape is (batch_size, color_channels, height, width)\n",
        "x = nd.random.uniform(shape=(4,1,28,28))\n",
        "y = net(x)\n",
        "y.shape\n"
      ],
      "execution_count": 10,
      "outputs": [
        {
          "output_type": "execute_result",
          "data": {
            "text/plain": [
              "(4, 10)"
            ]
          },
          "metadata": {
            "tags": []
          },
          "execution_count": 10
        }
      ]
    },
    {
      "metadata": {
        "id": "gtX88TawZvW1",
        "colab_type": "code",
        "colab": {
          "base_uri": "https://localhost:8080/",
          "height": 34
        },
        "outputId": "bc353812-48d2-4e2e-ed3e-a0755290f05a"
      },
      "cell_type": "code",
      "source": [
        "(net[0].weight.data().shape, net[5].bias.data().shape)"
      ],
      "execution_count": 11,
      "outputs": [
        {
          "output_type": "execute_result",
          "data": {
            "text/plain": [
              "((6, 1, 5, 5), (84,))"
            ]
          },
          "metadata": {
            "tags": []
          },
          "execution_count": 11
        }
      ]
    }
  ]
}