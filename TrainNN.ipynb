{
  "nbformat": 4,
  "nbformat_minor": 0,
  "metadata": {
    "colab": {
      "name": "TrainNN.ipynb",
      "version": "0.3.2",
      "provenance": []
    },
    "kernelspec": {
      "name": "python3",
      "display_name": "Python 3"
    }
  },
  "cells": [
    {
      "metadata": {
        "id": "4PnaZaj26FnP",
        "colab_type": "code",
        "colab": {
          "base_uri": "https://localhost:8080/",
          "height": 525
        },
        "outputId": "be61772d-dc4f-45f6-f9dd-92c22582214d"
      },
      "cell_type": "code",
      "source": [
        "!pip install mxnet"
      ],
      "execution_count": 1,
      "outputs": [
        {
          "output_type": "stream",
          "text": [
            "Collecting mxnet\n",
            "\u001b[?25l  Downloading https://files.pythonhosted.org/packages/f0/2e/b26eb7273aed1945f59993b3b306442eb41684f931b5380821c39cf50a31/mxnet-1.3.1-py2.py3-none-manylinux1_x86_64.whl (27.1MB)\n",
            "\u001b[K    100% |████████████████████████████████| 27.1MB 1.1MB/s \n",
            "\u001b[?25hCollecting requests>=2.20.0 (from mxnet)\n",
            "\u001b[?25l  Downloading https://files.pythonhosted.org/packages/7d/e3/20f3d364d6c8e5d2353c72a67778eb189176f08e873c9900e10c0287b84b/requests-2.21.0-py2.py3-none-any.whl (57kB)\n",
            "\u001b[K    100% |████████████████████████████████| 61kB 20.5MB/s \n",
            "\u001b[?25hCollecting graphviz<0.9.0,>=0.8.1 (from mxnet)\n",
            "  Downloading https://files.pythonhosted.org/packages/53/39/4ab213673844e0c004bed8a0781a0721a3f6bb23eb8854ee75c236428892/graphviz-0.8.4-py2.py3-none-any.whl\n",
            "Requirement already satisfied: numpy<1.15.0,>=1.8.2 in /usr/local/lib/python3.6/dist-packages (from mxnet) (1.14.6)\n",
            "Requirement already satisfied: urllib3<1.25,>=1.21.1 in /usr/local/lib/python3.6/dist-packages (from requests>=2.20.0->mxnet) (1.22)\n",
            "Requirement already satisfied: certifi>=2017.4.17 in /usr/local/lib/python3.6/dist-packages (from requests>=2.20.0->mxnet) (2018.11.29)\n",
            "Requirement already satisfied: idna<2.9,>=2.5 in /usr/local/lib/python3.6/dist-packages (from requests>=2.20.0->mxnet) (2.6)\n",
            "Requirement already satisfied: chardet<3.1.0,>=3.0.2 in /usr/local/lib/python3.6/dist-packages (from requests>=2.20.0->mxnet) (3.0.4)\n",
            "\u001b[31mspacy 2.0.18 has requirement numpy>=1.15.0, but you'll have numpy 1.14.6 which is incompatible.\u001b[0m\n",
            "\u001b[31mgoogle-colab 0.0.1a1 has requirement requests~=2.18.0, but you'll have requests 2.21.0 which is incompatible.\u001b[0m\n",
            "\u001b[31mcufflinks 0.14.6 has requirement plotly>=3.0.0, but you'll have plotly 1.12.12 which is incompatible.\u001b[0m\n",
            "Installing collected packages: requests, graphviz, mxnet\n",
            "  Found existing installation: requests 2.18.4\n",
            "    Uninstalling requests-2.18.4:\n",
            "      Successfully uninstalled requests-2.18.4\n",
            "  Found existing installation: graphviz 0.10.1\n",
            "    Uninstalling graphviz-0.10.1:\n",
            "      Successfully uninstalled graphviz-0.10.1\n",
            "Successfully installed graphviz-0.8.4 mxnet-1.3.1 requests-2.21.0\n"
          ],
          "name": "stdout"
        },
        {
          "output_type": "display_data",
          "data": {
            "application/vnd.colab-display-data+json": {
              "pip_warning": {
                "packages": [
                  "requests"
                ]
              }
            }
          },
          "metadata": {
            "tags": []
          }
        }
      ]
    },
    {
      "metadata": {
        "id": "tB0kvJyM6MYZ",
        "colab_type": "code",
        "colab": {}
      },
      "cell_type": "code",
      "source": [
        "from mxnet import nd, gluon, init, autograd\n",
        "from mxnet.gluon import nn\n",
        "from mxnet.gluon.data.vision import datasets, transforms\n",
        "from IPython import display\n",
        "import matplotlib.pyplot as plt\n",
        "import time"
      ],
      "execution_count": 0,
      "outputs": []
    },
    {
      "metadata": {
        "id": "mvlncy8m6Mbq",
        "colab_type": "code",
        "colab": {
          "base_uri": "https://localhost:8080/",
          "height": 87
        },
        "outputId": "f910ff50-0042-4b1c-d6f0-7be6ca7a2a92"
      },
      "cell_type": "code",
      "source": [
        "\n",
        "mnist_train = datasets.FashionMNIST(train=True)\n",
        "X, y = mnist_train[0]\n",
        "('X shape: ', X.shape, 'X dtype', X.dtype, 'y:', y)"
      ],
      "execution_count": 3,
      "outputs": [
        {
          "output_type": "stream",
          "text": [
            "Downloading /root/.mxnet/datasets/fashion-mnist/train-images-idx3-ubyte.gz from https://apache-mxnet.s3-accelerate.dualstack.amazonaws.com/gluon/dataset/fashion-mnist/train-images-idx3-ubyte.gz...\n",
            "Downloading /root/.mxnet/datasets/fashion-mnist/train-labels-idx1-ubyte.gz from https://apache-mxnet.s3-accelerate.dualstack.amazonaws.com/gluon/dataset/fashion-mnist/train-labels-idx1-ubyte.gz...\n"
          ],
          "name": "stdout"
        },
        {
          "output_type": "execute_result",
          "data": {
            "text/plain": [
              "('X shape: ', (28, 28, 1), 'X dtype', numpy.uint8, 'y:', 2)"
            ]
          },
          "metadata": {
            "tags": []
          },
          "execution_count": 3
        }
      ]
    },
    {
      "metadata": {
        "id": "3eGEEfIQ6Mdi",
        "colab_type": "code",
        "colab": {
          "base_uri": "https://localhost:8080/",
          "height": 156
        },
        "outputId": "3d2e775d-3a11-45a8-9143-8f693baeb24f"
      },
      "cell_type": "code",
      "source": [
        "\n",
        "text_labels = ['t-shirt', 'trouser', 'pullover', 'dress', 'coat',\n",
        "               'sandal', 'shirt', 'sneaker', 'bag', 'ankle boot']\n",
        "X, y = mnist_train[0:10]\n",
        "# plot images\n",
        "display.set_matplotlib_formats('svg')\n",
        "_, figs = plt.subplots(1, X.shape[0], figsize=(15, 15))\n",
        "for f,x,yi in zip(figs, X,y):\n",
        "    # 3D->2D by removing the last channel dim\n",
        "    f.imshow(x.reshape((28,28)).asnumpy())\n",
        "    ax = f.axes\n",
        "    ax.set_title(text_labels[int(yi)])\n",
        "    ax.title.set_fontsize(14)\n",
        "    ax.get_xaxis().set_visible(False)\n",
        "    ax.get_yaxis().set_visible(False)\n",
        "plt.show()"
      ],
      "execution_count": 5,
      "outputs": [
        {
          "output_type": "display_data",
          "data": {
            "text/plain": [
              "<Figure size 1080x1080 with 10 Axes>"
            ],
            "image/svg+xml": "<?xml version=\"1.0\" encoding=\"utf-8\" standalone=\"no\"?>\n<!DOCTYPE svg PUBLIC \"-//W3C//DTD SVG 1.1//EN\"\n  \"http://www.w3.org/Graphics/SVG/1.1/DTD/svg11.dtd\">\n<!-- Created with matplotlib (https://matplotlib.org/) -->\n<svg height=\"101.477828pt\" version=\"1.1\" viewBox=\"0 0 851.4 101.477828\" width=\"851.4pt\" xmlns=\"http://www.w3.org/2000/svg\" xmlns:xlink=\"http://www.w3.org/1999/xlink\">\n <defs>\n  <style type=\"text/css\">\n*{stroke-linecap:butt;stroke-linejoin:round;}\n  </style>\n </defs>\n <g id=\"figure_1\">\n  <g id=\"patch_1\">\n   <path d=\"M 0 101.477828 \nL 851.4 101.477828 \nL 851.4 0 \nL 0 0 \nz\n\" style=\"fill:#ffffff;\"/>\n  </g>\n  <g id=\"axes_1\">\n   <g id=\"patch_2\">\n    <path d=\"M 7.2 94.277828 \nL 78.132203 94.277828 \nL 78.132203 23.345625 \nL 7.2 23.345625 \nz\n\" style=\"fill:#eaeaf2;\"/>\n   </g>\n   <g clip-path=\"url(#p213b34f734)\">\n    <image height=\"71\" id=\"image131cb3a572\" transform=\"scale(1 -1)translate(0 -71)\" width=\"71\" x=\"7.2\" xlink:href=\"data:image/png;base64,\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\" y=\"-23.277828\"/>\n   </g>\n   <g id=\"patch_3\">\n    <path d=\"M 7.2 94.277828 \nL 7.2 23.345625 \n\" style=\"fill:none;\"/>\n   </g>\n   <g id=\"patch_4\">\n    <path d=\"M 78.132203 94.277828 \nL 78.132203 23.345625 \n\" style=\"fill:none;\"/>\n   </g>\n   <g id=\"patch_5\">\n    <path d=\"M 7.2 94.277828 \nL 78.132203 94.277828 \n\" style=\"fill:none;\"/>\n   </g>\n   <g id=\"patch_6\">\n    <path d=\"M 7.2 23.345625 \nL 78.132203 23.345625 \n\" style=\"fill:none;\"/>\n   </g>\n   <g id=\"text_1\">\n    <!-- pullover -->\n    <defs>\n     <path d=\"M 51.421875 26.65625 \nQ 51.421875 20.65625 50.4375 15.578125 \nQ 49.46875 10.5 47.1875 6.828125 \nQ 44.921875 3.171875 41.1875 1.09375 \nQ 37.453125 -0.984375 31.984375 -0.984375 \nQ 26.3125 -0.984375 22.0625 1.171875 \nQ 17.828125 3.328125 15.578125 8.203125 \nL 15.328125 8.203125 \nQ 15.375 8.109375 15.40625 7.328125 \nQ 15.4375 6.546875 15.453125 5.375 \nQ 15.484375 4.203125 15.5 2.75 \nQ 15.53125 1.3125 15.53125 -0.09375 \nL 15.53125 -20.75 \nL 6.734375 -20.75 \nL 6.734375 42.046875 \nQ 6.734375 43.953125 6.703125 45.703125 \nQ 6.6875 47.46875 6.640625 48.90625 \nQ 6.59375 50.34375 6.546875 51.359375 \nQ 6.5 52.390625 6.453125 52.828125 \nL 14.9375 52.828125 \nQ 14.984375 52.6875 15.0625 51.796875 \nQ 15.140625 50.921875 15.203125 49.671875 \nQ 15.28125 48.4375 15.359375 47.015625 \nQ 15.4375 45.609375 15.4375 44.34375 \nL 15.625 44.34375 \nQ 16.84375 46.875 18.40625 48.65625 \nQ 19.96875 50.4375 21.96875 51.578125 \nQ 23.96875 52.734375 26.4375 53.25 \nQ 28.90625 53.765625 31.984375 53.765625 \nQ 37.453125 53.765625 41.1875 51.8125 \nQ 44.921875 49.859375 47.1875 46.3125 \nQ 49.46875 42.78125 50.4375 37.765625 \nQ 51.421875 32.765625 51.421875 26.65625 \nz\nM 42.1875 26.46875 \nQ 42.1875 31.34375 41.59375 35.15625 \nQ 41.015625 38.96875 39.578125 41.59375 \nQ 38.140625 44.234375 35.734375 45.59375 \nQ 33.34375 46.96875 29.734375 46.96875 \nQ 26.8125 46.96875 24.21875 46.140625 \nQ 21.625 45.3125 19.703125 42.96875 \nQ 17.78125 40.625 16.65625 36.5 \nQ 15.53125 32.375 15.53125 25.78125 \nQ 15.53125 20.171875 16.453125 16.28125 \nQ 17.390625 12.40625 19.171875 10.015625 \nQ 20.953125 7.625 23.578125 6.5625 \nQ 26.21875 5.515625 29.640625 5.515625 \nQ 33.296875 5.515625 35.71875 6.921875 \nQ 38.140625 8.34375 39.578125 11.03125 \nQ 41.015625 13.71875 41.59375 17.59375 \nQ 42.1875 21.484375 42.1875 26.46875 \nz\n\" id=\"LiberationSans-112\"/>\n     <path d=\"M 15.328125 52.828125 \nL 15.328125 19.34375 \nQ 15.328125 15.484375 15.890625 12.890625 \nQ 16.453125 10.296875 17.71875 8.703125 \nQ 19 7.125 21.0625 6.46875 \nQ 23.140625 5.8125 26.21875 5.8125 \nQ 29.34375 5.8125 31.859375 6.90625 \nQ 34.375 8.015625 36.15625 10.078125 \nQ 37.9375 12.15625 38.90625 15.203125 \nQ 39.890625 18.265625 39.890625 22.21875 \nL 39.890625 52.828125 \nL 48.6875 52.828125 \nL 48.6875 11.28125 \nQ 48.6875 9.625 48.703125 7.78125 \nQ 48.734375 5.953125 48.78125 4.3125 \nQ 48.828125 2.6875 48.875 1.515625 \nQ 48.921875 0.34375 48.96875 0 \nL 40.671875 0 \nQ 40.625 0.25 40.578125 1.3125 \nQ 40.53125 2.390625 40.453125 3.78125 \nQ 40.375 5.171875 40.328125 6.609375 \nQ 40.28125 8.0625 40.28125 9.03125 \nL 40.140625 9.03125 \nQ 38.875 6.734375 37.359375 4.875 \nQ 35.84375 3.03125 33.84375 1.734375 \nQ 31.84375 0.4375 29.25 -0.265625 \nQ 26.65625 -0.984375 23.25 -0.984375 \nQ 18.84375 -0.984375 15.671875 0.09375 \nQ 12.5 1.171875 10.453125 3.421875 \nQ 8.40625 5.671875 7.453125 9.1875 \nQ 6.5 12.703125 6.5 17.625 \nL 6.5 52.828125 \nz\n\" id=\"LiberationSans-117\"/>\n     <path d=\"M 6.734375 0 \nL 6.734375 72.46875 \nL 15.53125 72.46875 \nL 15.53125 0 \nz\n\" id=\"LiberationSans-108\"/>\n     <path d=\"M 51.421875 26.46875 \nQ 51.421875 12.59375 45.3125 5.796875 \nQ 39.203125 -0.984375 27.59375 -0.984375 \nQ 22.078125 -0.984375 17.71875 0.671875 \nQ 13.375 2.34375 10.375 5.765625 \nQ 7.375 9.1875 5.78125 14.328125 \nQ 4.203125 19.484375 4.203125 26.46875 \nQ 4.203125 53.8125 27.875 53.8125 \nQ 34.03125 53.8125 38.5 52.09375 \nQ 42.96875 50.390625 45.828125 46.96875 \nQ 48.6875 43.5625 50.046875 38.421875 \nQ 51.421875 33.296875 51.421875 26.46875 \nz\nM 42.1875 26.46875 \nQ 42.1875 32.625 41.234375 36.625 \nQ 40.28125 40.625 38.453125 43.015625 \nQ 36.625 45.40625 33.984375 46.359375 \nQ 31.34375 47.3125 28.03125 47.3125 \nQ 24.65625 47.3125 21.9375 46.3125 \nQ 19.234375 45.3125 17.328125 42.890625 \nQ 15.4375 40.484375 14.421875 36.46875 \nQ 13.421875 32.46875 13.421875 26.46875 \nQ 13.421875 20.3125 14.5 16.28125 \nQ 15.578125 12.25 17.453125 9.859375 \nQ 19.34375 7.46875 21.90625 6.484375 \nQ 24.46875 5.515625 27.484375 5.515625 \nQ 30.859375 5.515625 33.59375 6.46875 \nQ 36.328125 7.421875 38.234375 9.8125 \nQ 40.140625 12.203125 41.15625 16.25 \nQ 42.1875 20.3125 42.1875 26.46875 \nz\n\" id=\"LiberationSans-111\"/>\n     <path d=\"M 29.9375 0 \nL 19.53125 0 \nL 0.34375 52.828125 \nL 9.71875 52.828125 \nL 21.34375 18.453125 \nQ 21.6875 17.390625 22.140625 15.84375 \nQ 22.609375 14.3125 23.09375 12.640625 \nQ 23.578125 10.984375 24 9.4375 \nQ 24.421875 7.90625 24.703125 6.890625 \nQ 25 7.90625 25.453125 9.4375 \nQ 25.921875 10.984375 26.40625 12.59375 \nQ 26.90625 14.203125 27.421875 15.734375 \nQ 27.9375 17.28125 28.328125 18.359375 \nL 40.328125 52.828125 \nL 49.65625 52.828125 \nz\n\" id=\"LiberationSans-118\"/>\n     <path d=\"M 13.484375 24.5625 \nQ 13.484375 20.40625 14.328125 16.90625 \nQ 15.1875 13.421875 16.96875 10.90625 \nQ 18.75 8.40625 21.53125 7 \nQ 24.3125 5.609375 28.21875 5.609375 \nQ 33.9375 5.609375 37.375 7.90625 \nQ 40.828125 10.203125 42.046875 13.71875 \nL 49.75 11.53125 \nQ 48.921875 9.328125 47.4375 7.109375 \nQ 45.953125 4.890625 43.453125 3.09375 \nQ 40.96875 1.3125 37.234375 0.15625 \nQ 33.5 -0.984375 28.21875 -0.984375 \nQ 16.5 -0.984375 10.375 6 \nQ 4.25 12.984375 4.25 26.765625 \nQ 4.25 34.1875 6.09375 39.328125 \nQ 7.953125 44.484375 11.171875 47.703125 \nQ 14.40625 50.921875 18.703125 52.359375 \nQ 23 53.8125 27.875 53.8125 \nQ 34.515625 53.8125 38.984375 51.65625 \nQ 43.453125 49.515625 46.15625 45.71875 \nQ 48.875 41.9375 50.015625 36.8125 \nQ 51.171875 31.6875 51.171875 25.734375 \nL 51.171875 24.5625 \nz\nM 42.09375 31.296875 \nQ 41.359375 39.65625 37.84375 43.484375 \nQ 34.328125 47.3125 27.734375 47.3125 \nQ 25.53125 47.3125 23.109375 46.609375 \nQ 20.703125 45.90625 18.65625 44.09375 \nQ 16.609375 42.28125 15.1875 39.171875 \nQ 13.765625 36.078125 13.578125 31.296875 \nz\n\" id=\"LiberationSans-101\"/>\n     <path d=\"M 6.9375 0 \nL 6.9375 40.53125 \nQ 6.9375 42.1875 6.90625 43.921875 \nQ 6.890625 45.65625 6.828125 47.265625 \nQ 6.78125 48.875 6.734375 50.28125 \nQ 6.6875 51.703125 6.640625 52.828125 \nL 14.9375 52.828125 \nQ 14.984375 51.703125 15.0625 50.265625 \nQ 15.140625 48.828125 15.203125 47.3125 \nQ 15.28125 45.796875 15.296875 44.40625 \nQ 15.328125 43.015625 15.328125 42.046875 \nL 15.53125 42.046875 \nQ 16.453125 45.0625 17.5 47.28125 \nQ 18.5625 49.515625 19.96875 50.953125 \nQ 21.390625 52.390625 23.34375 53.09375 \nQ 25.296875 53.8125 28.078125 53.8125 \nQ 29.15625 53.8125 30.125 53.640625 \nQ 31.109375 53.46875 31.640625 53.328125 \nL 31.640625 45.265625 \nQ 30.765625 45.515625 29.59375 45.625 \nQ 28.421875 45.75 26.953125 45.75 \nQ 23.921875 45.75 21.796875 44.375 \nQ 19.671875 43.015625 18.328125 40.59375 \nQ 17 38.1875 16.359375 34.84375 \nQ 15.71875 31.5 15.71875 27.546875 \nL 15.71875 0 \nz\n\" id=\"LiberationSans-114\"/>\n    </defs>\n    <g style=\"fill:#262626;\" transform=\"translate(18.15407 17.345625)scale(0.14 -0.14)\">\n     <use xlink:href=\"#LiberationSans-112\"/>\n     <use x=\"55.615234\" xlink:href=\"#LiberationSans-117\"/>\n     <use x=\"111.230469\" xlink:href=\"#LiberationSans-108\"/>\n     <use x=\"133.447266\" xlink:href=\"#LiberationSans-108\"/>\n     <use x=\"155.664062\" xlink:href=\"#LiberationSans-111\"/>\n     <use x=\"211.279297\" xlink:href=\"#LiberationSans-118\"/>\n     <use x=\"261.279297\" xlink:href=\"#LiberationSans-101\"/>\n     <use x=\"316.894531\" xlink:href=\"#LiberationSans-114\"/>\n    </g>\n   </g>\n  </g>\n  <g id=\"axes_2\">\n   <g id=\"patch_7\">\n    <path d=\"M 92.318644 94.277828 \nL 163.250847 94.277828 \nL 163.250847 23.345625 \nL 92.318644 23.345625 \nz\n\" style=\"fill:#eaeaf2;\"/>\n   </g>\n   <g clip-path=\"url(#p6ac1259e87)\">\n    <image height=\"71\" id=\"image79c852a979\" transform=\"scale(1 -1)translate(0 -71)\" width=\"71\" x=\"92.318644\" xlink:href=\"data:image/png;base64,\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\" y=\"-23.277828\"/>\n   </g>\n   <g id=\"patch_8\">\n    <path d=\"M 92.318644 94.277828 \nL 92.318644 23.345625 \n\" style=\"fill:none;\"/>\n   </g>\n   <g id=\"patch_9\">\n    <path d=\"M 163.250847 94.277828 \nL 163.250847 23.345625 \n\" style=\"fill:none;\"/>\n   </g>\n   <g id=\"patch_10\">\n    <path d=\"M 92.318644 94.277828 \nL 163.250847 94.277828 \n\" style=\"fill:none;\"/>\n   </g>\n   <g id=\"patch_11\">\n    <path d=\"M 92.318644 23.345625 \nL 163.250847 23.345625 \n\" style=\"fill:none;\"/>\n   </g>\n   <g id=\"text_2\">\n    <!-- ankle boot -->\n    <defs>\n     <path d=\"M 20.21875 -0.984375 \nQ 12.25 -0.984375 8.25 3.21875 \nQ 4.25 7.421875 4.25 14.75 \nQ 4.25 19.96875 6.21875 23.3125 \nQ 8.203125 26.65625 11.390625 28.5625 \nQ 14.59375 30.46875 18.6875 31.203125 \nQ 22.796875 31.9375 27.046875 32.03125 \nL 38.921875 32.234375 \nL 38.921875 35.109375 \nQ 38.921875 38.375 38.234375 40.671875 \nQ 37.546875 42.96875 36.125 44.375 \nQ 34.71875 45.796875 32.59375 46.453125 \nQ 30.46875 47.125 27.59375 47.125 \nQ 25.046875 47.125 23 46.75 \nQ 20.953125 46.390625 19.4375 45.4375 \nQ 17.921875 44.484375 16.984375 42.84375 \nQ 16.0625 41.21875 15.765625 38.71875 \nL 6.59375 39.546875 \nQ 7.078125 42.671875 8.4375 45.28125 \nQ 9.8125 47.90625 12.328125 49.796875 \nQ 14.84375 51.703125 18.625 52.75 \nQ 22.40625 53.8125 27.78125 53.8125 \nQ 37.75 53.8125 42.765625 49.234375 \nQ 47.796875 44.671875 47.796875 36.03125 \nL 47.796875 13.28125 \nQ 47.796875 9.375 48.828125 7.390625 \nQ 49.859375 5.421875 52.734375 5.421875 \nQ 53.46875 5.421875 54.203125 5.515625 \nQ 54.9375 5.609375 55.609375 5.765625 \nL 55.609375 0.296875 \nQ 53.953125 -0.09375 52.3125 -0.28125 \nQ 50.6875 -0.484375 48.828125 -0.484375 \nQ 46.34375 -0.484375 44.5625 0.171875 \nQ 42.78125 0.828125 41.65625 2.171875 \nQ 40.53125 3.515625 39.9375 5.484375 \nQ 39.359375 7.46875 39.203125 10.109375 \nL 38.921875 10.109375 \nQ 37.5 7.5625 35.8125 5.515625 \nQ 34.125 3.46875 31.875 2.03125 \nQ 29.640625 0.59375 26.78125 -0.1875 \nQ 23.921875 -0.984375 20.21875 -0.984375 \nz\nM 22.21875 5.609375 \nQ 26.421875 5.609375 29.5625 7.140625 \nQ 32.71875 8.6875 34.78125 11.078125 \nQ 36.859375 13.484375 37.890625 16.3125 \nQ 38.921875 19.140625 38.921875 21.734375 \nL 38.921875 26.078125 \nL 29.296875 25.875 \nQ 26.078125 25.828125 23.171875 25.40625 \nQ 20.265625 25 18.0625 23.78125 \nQ 15.875 22.5625 14.578125 20.359375 \nQ 13.28125 18.171875 13.28125 14.59375 \nQ 13.28125 10.296875 15.59375 7.953125 \nQ 17.921875 5.609375 22.21875 5.609375 \nz\n\" id=\"LiberationSans-97\"/>\n     <path d=\"M 40.28125 0 \nL 40.28125 33.5 \nQ 40.28125 37.359375 39.71875 39.9375 \nQ 39.15625 42.53125 37.890625 44.109375 \nQ 36.625 45.703125 34.546875 46.359375 \nQ 32.46875 47.015625 29.390625 47.015625 \nQ 26.265625 47.015625 23.75 45.921875 \nQ 21.234375 44.828125 19.453125 42.75 \nQ 17.671875 40.671875 16.6875 37.625 \nQ 15.71875 34.578125 15.71875 30.609375 \nL 15.71875 0 \nL 6.9375 0 \nL 6.9375 41.546875 \nQ 6.9375 43.21875 6.90625 45.046875 \nQ 6.890625 46.875 6.828125 48.5 \nQ 6.78125 50.140625 6.734375 51.3125 \nQ 6.6875 52.484375 6.640625 52.828125 \nL 14.9375 52.828125 \nQ 14.984375 52.59375 15.03125 51.515625 \nQ 15.09375 50.4375 15.15625 49.046875 \nQ 15.234375 47.65625 15.28125 46.21875 \nQ 15.328125 44.78125 15.328125 43.796875 \nL 15.484375 43.796875 \nQ 16.75 46.09375 18.265625 47.953125 \nQ 19.78125 49.8125 21.78125 51.09375 \nQ 23.78125 52.390625 26.359375 53.09375 \nQ 28.953125 53.8125 32.375 53.8125 \nQ 36.765625 53.8125 39.9375 52.734375 \nQ 43.109375 51.65625 45.15625 49.40625 \nQ 47.21875 47.171875 48.171875 43.625 \nQ 49.125 40.09375 49.125 35.203125 \nL 49.125 0 \nz\n\" id=\"LiberationSans-110\"/>\n     <path d=\"M 39.84375 0 \nL 21.96875 24.125 \nL 15.53125 18.796875 \nL 15.53125 0 \nL 6.734375 0 \nL 6.734375 72.46875 \nL 15.53125 72.46875 \nL 15.53125 27.203125 \nL 38.71875 52.828125 \nL 49.03125 52.828125 \nL 27.59375 30.125 \nL 50.140625 0 \nz\n\" id=\"LiberationSans-107\"/>\n     <path id=\"LiberationSans-32\"/>\n     <path d=\"M 51.421875 26.65625 \nQ 51.421875 -0.984375 31.984375 -0.984375 \nQ 25.984375 -0.984375 22 1.1875 \nQ 18.015625 3.375 15.53125 8.203125 \nL 15.4375 8.203125 \nQ 15.4375 6.9375 15.359375 5.5625 \nQ 15.28125 4.203125 15.203125 3.03125 \nQ 15.140625 1.859375 15.0625 1.03125 \nQ 14.984375 0.203125 14.9375 0 \nL 6.453125 0 \nQ 6.5 0.4375 6.546875 1.484375 \nQ 6.59375 2.546875 6.640625 4 \nQ 6.6875 5.46875 6.703125 7.21875 \nQ 6.734375 8.984375 6.734375 10.890625 \nL 6.734375 72.46875 \nL 15.53125 72.46875 \nL 15.53125 51.8125 \nQ 15.53125 50.34375 15.5 49 \nQ 15.484375 47.65625 15.4375 46.625 \nQ 15.375 45.40625 15.328125 44.34375 \nL 15.53125 44.34375 \nQ 17.96875 49.421875 22 51.609375 \nQ 26.03125 53.8125 31.984375 53.8125 \nQ 42 53.8125 46.703125 47.0625 \nQ 51.421875 40.328125 51.421875 26.65625 \nz\nM 42.1875 26.375 \nQ 42.1875 31.84375 41.5 35.75 \nQ 40.828125 39.65625 39.3125 42.15625 \nQ 37.796875 44.671875 35.453125 45.84375 \nQ 33.109375 47.015625 29.734375 47.015625 \nQ 26.265625 47.015625 23.609375 45.890625 \nQ 20.953125 44.78125 19.171875 42.28125 \nQ 17.390625 39.796875 16.453125 35.734375 \nQ 15.53125 31.6875 15.53125 25.828125 \nQ 15.53125 20.171875 16.453125 16.3125 \nQ 17.390625 12.453125 19.171875 10.03125 \nQ 20.953125 7.625 23.578125 6.5625 \nQ 26.21875 5.515625 29.640625 5.515625 \nQ 32.859375 5.515625 35.203125 6.640625 \nQ 37.546875 7.765625 39.109375 10.25 \nQ 40.671875 12.75 41.421875 16.71875 \nQ 42.1875 20.703125 42.1875 26.375 \nz\n\" id=\"LiberationSans-98\"/>\n     <path d=\"M 27.046875 0.390625 \nQ 25.046875 -0.140625 22.96875 -0.453125 \nQ 20.90625 -0.78125 18.171875 -0.78125 \nQ 7.625 -0.78125 7.625 11.1875 \nL 7.625 46.4375 \nL 1.515625 46.4375 \nL 1.515625 52.828125 \nL 7.953125 52.828125 \nL 10.546875 64.65625 \nL 16.40625 64.65625 \nL 16.40625 52.828125 \nL 26.171875 52.828125 \nL 26.171875 46.4375 \nL 16.40625 46.4375 \nL 16.40625 13.09375 \nQ 16.40625 9.28125 17.640625 7.734375 \nQ 18.890625 6.203125 21.96875 6.203125 \nQ 23.25 6.203125 24.4375 6.390625 \nQ 25.640625 6.59375 27.046875 6.890625 \nz\n\" id=\"LiberationSans-116\"/>\n    </defs>\n    <g style=\"fill:#262626;\" transform=\"translate(95.484121 17.345625)scale(0.14 -0.14)\">\n     <use xlink:href=\"#LiberationSans-97\"/>\n     <use x=\"55.615234\" xlink:href=\"#LiberationSans-110\"/>\n     <use x=\"111.230469\" xlink:href=\"#LiberationSans-107\"/>\n     <use x=\"161.230469\" xlink:href=\"#LiberationSans-108\"/>\n     <use x=\"183.447266\" xlink:href=\"#LiberationSans-101\"/>\n     <use x=\"239.0625\" xlink:href=\"#LiberationSans-32\"/>\n     <use x=\"266.845703\" xlink:href=\"#LiberationSans-98\"/>\n     <use x=\"322.460938\" xlink:href=\"#LiberationSans-111\"/>\n     <use x=\"378.076172\" xlink:href=\"#LiberationSans-111\"/>\n     <use x=\"433.691406\" xlink:href=\"#LiberationSans-116\"/>\n    </g>\n   </g>\n  </g>\n  <g id=\"axes_3\">\n   <g id=\"patch_12\">\n    <path d=\"M 177.437288 94.277828 \nL 248.369492 94.277828 \nL 248.369492 23.345625 \nL 177.437288 23.345625 \nz\n\" style=\"fill:#eaeaf2;\"/>\n   </g>\n   <g clip-path=\"url(#p4445c41901)\">\n    <image height=\"71\" id=\"image5c168fd335\" transform=\"scale(1 -1)translate(0 -71)\" width=\"71\" x=\"177.437288\" xlink:href=\"data:image/png;base64,\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\" y=\"-23.277828\"/>\n   </g>\n   <g id=\"patch_13\">\n    <path d=\"M 177.437288 94.277828 \nL 177.437288 23.345625 \n\" style=\"fill:none;\"/>\n   </g>\n   <g id=\"patch_14\">\n    <path d=\"M 248.369492 94.277828 \nL 248.369492 23.345625 \n\" style=\"fill:none;\"/>\n   </g>\n   <g id=\"patch_15\">\n    <path d=\"M 177.437288 94.277828 \nL 248.369492 94.277828 \n\" style=\"fill:none;\"/>\n   </g>\n   <g id=\"patch_16\">\n    <path d=\"M 177.437288 23.345625 \nL 248.369492 23.345625 \n\" style=\"fill:none;\"/>\n   </g>\n   <g id=\"text_3\">\n    <!-- shirt -->\n    <defs>\n     <path d=\"M 46.390625 14.59375 \nQ 46.390625 10.890625 44.9375 7.984375 \nQ 43.5 5.078125 40.765625 3.09375 \nQ 38.03125 1.125 34.046875 0.0625 \nQ 30.078125 -0.984375 24.953125 -0.984375 \nQ 20.359375 -0.984375 16.671875 -0.265625 \nQ 12.984375 0.4375 10.203125 2 \nQ 7.421875 3.5625 5.53125 6.125 \nQ 3.65625 8.6875 2.78125 12.40625 \nL 10.546875 13.921875 \nQ 11.671875 9.671875 15.1875 7.6875 \nQ 18.703125 5.71875 24.953125 5.71875 \nQ 27.78125 5.71875 30.140625 6.109375 \nQ 32.515625 6.5 34.21875 7.453125 \nQ 35.9375 8.40625 36.890625 9.984375 \nQ 37.84375 11.578125 37.84375 13.921875 \nQ 37.84375 16.3125 36.71875 17.84375 \nQ 35.59375 19.390625 33.59375 20.40625 \nQ 31.59375 21.4375 28.734375 22.1875 \nQ 25.875 22.953125 22.46875 23.875 \nQ 19.28125 24.703125 16.15625 25.734375 \nQ 13.03125 26.765625 10.515625 28.4375 \nQ 8.015625 30.125 6.453125 32.609375 \nQ 4.890625 35.109375 4.890625 38.875 \nQ 4.890625 46.09375 10.03125 49.875 \nQ 15.1875 53.65625 25.046875 53.65625 \nQ 33.796875 53.65625 38.9375 50.578125 \nQ 44.09375 47.515625 45.453125 40.71875 \nL 37.546875 39.75 \nQ 37.109375 41.796875 35.9375 43.1875 \nQ 34.765625 44.578125 33.109375 45.4375 \nQ 31.453125 46.296875 29.375 46.65625 \nQ 27.296875 47.015625 25.046875 47.015625 \nQ 19.09375 47.015625 16.25 45.203125 \nQ 13.421875 43.40625 13.421875 39.75 \nQ 13.421875 37.59375 14.46875 36.203125 \nQ 15.53125 34.8125 17.40625 33.859375 \nQ 19.28125 32.90625 21.921875 32.203125 \nQ 24.5625 31.5 27.734375 30.71875 \nQ 29.828125 30.171875 32.03125 29.5625 \nQ 34.234375 28.953125 36.296875 28.09375 \nQ 38.375 27.25 40.203125 26.09375 \nQ 42.046875 24.953125 43.40625 23.34375 \nQ 44.78125 21.734375 45.578125 19.578125 \nQ 46.390625 17.4375 46.390625 14.59375 \nz\n\" id=\"LiberationSans-115\"/>\n     <path d=\"M 15.484375 43.796875 \nQ 16.9375 46.484375 18.640625 48.359375 \nQ 20.359375 50.25 22.40625 51.46875 \nQ 24.46875 52.6875 26.90625 53.25 \nQ 29.34375 53.8125 32.375 53.8125 \nQ 37.453125 53.8125 40.703125 52.4375 \nQ 43.953125 51.078125 45.828125 48.609375 \nQ 47.703125 46.140625 48.40625 42.71875 \nQ 49.125 39.3125 49.125 35.203125 \nL 49.125 0 \nL 40.28125 0 \nL 40.28125 33.5 \nQ 40.28125 36.859375 39.859375 39.390625 \nQ 39.453125 41.9375 38.28125 43.625 \nQ 37.109375 45.3125 34.953125 46.15625 \nQ 32.8125 47.015625 29.390625 47.015625 \nQ 26.265625 47.015625 23.75 45.890625 \nQ 21.234375 44.78125 19.453125 42.71875 \nQ 17.671875 40.671875 16.6875 37.734375 \nQ 15.71875 34.8125 15.71875 31.15625 \nL 15.71875 0 \nL 6.9375 0 \nL 6.9375 72.46875 \nL 15.71875 72.46875 \nL 15.71875 53.609375 \nQ 15.71875 52 15.671875 50.390625 \nQ 15.625 48.78125 15.546875 47.40625 \nQ 15.484375 46.046875 15.421875 45.09375 \nQ 15.375 44.140625 15.328125 43.796875 \nz\n\" id=\"LiberationSans-104\"/>\n     <path d=\"M 6.6875 64.0625 \nL 6.6875 72.46875 \nL 15.484375 72.46875 \nL 15.484375 64.0625 \nz\nM 6.6875 0 \nL 6.6875 52.828125 \nL 15.484375 52.828125 \nL 15.484375 0 \nz\n\" id=\"LiberationSans-105\"/>\n    </defs>\n    <g style=\"fill:#262626;\" transform=\"translate(199.679952 17.345625)scale(0.14 -0.14)\">\n     <use xlink:href=\"#LiberationSans-115\"/>\n     <use x=\"50\" xlink:href=\"#LiberationSans-104\"/>\n     <use x=\"105.615234\" xlink:href=\"#LiberationSans-105\"/>\n     <use x=\"127.832031\" xlink:href=\"#LiberationSans-114\"/>\n     <use x=\"161.132812\" xlink:href=\"#LiberationSans-116\"/>\n    </g>\n   </g>\n  </g>\n  <g id=\"axes_4\">\n   <g id=\"patch_17\">\n    <path d=\"M 262.555932 94.277828 \nL 333.488136 94.277828 \nL 333.488136 23.345625 \nL 262.555932 23.345625 \nz\n\" style=\"fill:#eaeaf2;\"/>\n   </g>\n   <g clip-path=\"url(#pdd19059d07)\">\n    <image height=\"71\" id=\"image09f52e8e2e\" transform=\"scale(1 -1)translate(0 -71)\" width=\"71\" x=\"262.555932\" xlink:href=\"data:image/png;base64,\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\" y=\"-23.277828\"/>\n   </g>\n   <g id=\"patch_18\">\n    <path d=\"M 262.555932 94.277828 \nL 262.555932 23.345625 \n\" style=\"fill:none;\"/>\n   </g>\n   <g id=\"patch_19\">\n    <path d=\"M 333.488136 94.277828 \nL 333.488136 23.345625 \n\" style=\"fill:none;\"/>\n   </g>\n   <g id=\"patch_20\">\n    <path d=\"M 262.555932 94.277828 \nL 333.488136 94.277828 \n\" style=\"fill:none;\"/>\n   </g>\n   <g id=\"patch_21\">\n    <path d=\"M 262.555932 23.345625 \nL 333.488136 23.345625 \n\" style=\"fill:none;\"/>\n   </g>\n   <g id=\"text_4\">\n    <!-- t-shirt -->\n    <defs>\n     <path d=\"M 4.4375 22.65625 \nL 4.4375 30.46875 \nL 28.859375 30.46875 \nL 28.859375 22.65625 \nz\n\" id=\"LiberationSans-45\"/>\n    </defs>\n    <g style=\"fill:#262626;\" transform=\"translate(280.523128 17.345625)scale(0.14 -0.14)\">\n     <use xlink:href=\"#LiberationSans-116\"/>\n     <use x=\"27.783203\" xlink:href=\"#LiberationSans-45\"/>\n     <use x=\"61.083984\" xlink:href=\"#LiberationSans-115\"/>\n     <use x=\"111.083984\" xlink:href=\"#LiberationSans-104\"/>\n     <use x=\"166.699219\" xlink:href=\"#LiberationSans-105\"/>\n     <use x=\"188.916016\" xlink:href=\"#LiberationSans-114\"/>\n     <use x=\"222.216797\" xlink:href=\"#LiberationSans-116\"/>\n    </g>\n   </g>\n  </g>\n  <g id=\"axes_5\">\n   <g id=\"patch_22\">\n    <path d=\"M 347.674576 94.277828 \nL 418.60678 94.277828 \nL 418.60678 23.345625 \nL 347.674576 23.345625 \nz\n\" style=\"fill:#eaeaf2;\"/>\n   </g>\n   <g clip-path=\"url(#pd9e7162a77)\">\n    <image height=\"71\" id=\"image348d967ccd\" transform=\"scale(1 -1)translate(0 -71)\" width=\"71\" x=\"347.674576\" xlink:href=\"data:image/png;base64,\niVBORw0KGgoAAAANSUhEUgAAAEcAAABHCAYAAABVsFofAAAABHNCSVQICAgIfAhkiAAABVtJREFUeJztnMtLVl0Uhx9TK/Na4SUtb2RQTbJBDRoI1qA/QicK0cRJTgLBmSA4ddqgSQ0EJ/4FRkERKJR0GSR5CxO8UaiVl2/wsdZZx3e7X/Wct48P9jPaLN5z2dvfWnvttfcxb29vb48c8eHDBwAmJyfVVlBQAMD8/Lzafv78CUB+fr7aamtrtV1TUwPA5cuX1XblypUcvHGcEzl/wv+YMDge8pK41e7urrZPnMgc55s3bwLw/ft3tYlbLS4uqq2wsBCAnZ0dtf3580fb4mKbm5tqO3PmDAAzMzMZz7VdysvLO0xXnATleChI+4ZWTcLFixe1LeqorKzMsNmAbNuioq2tLec9c0VQjocwOB5SdyvL9vY2EHc1advgK8H8169fzvuIi9lrfvz4ke7LOgjK8ZBIOa5p0k7pp06dAuLT8lHvB27lnD59+tDveVyCcjyEwfGQ04AsAda6mrSti2RDgrjNfT5+/JjGK3oJyvGQU+WISuxULopxrcUOQtZKVjlhKv+PCYPjIZFbuUoDc3NzaltfXwegoqJCbZLzWBfJdu/9zwC4evXqMd74aATleEg9IL969UrbLpW4ShrZ6m2ua6TwZbNvKZqlRVCOhzA4HlJ3K1fZwbpFtkDsQq63brOxsQFE2zoAZ8+eBUIN+a+Q2lQu1NfXa1tUcpwgbJFs2l4j97SZsks5SQjK8RAGx0Mit3IF15aWFm1LtlxeXq42kbzL1Q7CFZBlM8/uqfve6zgE5XhIpBxXdnru3Dm1yTR6lMLW/mshUpudtuvq6oBoezkXBOV4CIPjIZEm7927p+0XL14A0N/fr7Zbt24B8PXrV7WJ29mALC50UDZbXFwMwOfPn9XW1dUFxA80raysAHDnzh21jY2NHbY7GQTleAiD4yGRW7W2tmr75cuXAFy4cEFtPT09AHR2dqpNlhdra2tqO2xeIotNgEePHgHx84ZLS0sA3L59+3AdyEJQjodEymloaNC2BNNv376p7eHDhwB0dHSo7ffv3/8+OEt+YrNhuacNvvJsW3mUYN/W1naEXhxMUI6HMDgeErlVc3Nzhu3t27eZDzEutLy8DEBJSYnaXPmNdSsJtH19fRm/s/nSyZMnAfdi9DgE5XhIpBw5dg/RX3p8fDzjd1VVVdqWGnNpaanaspUvZOFpnycUFRVltINy/gJhcDwkcisbVMvKyoAoeFqk8A2wsLBw4P1cR1UgCtgTExNqk69mbDFdXNW6WhKCcjwkUo6oBaLp2v7VVldXgfiayLWOEsW4tl4gCvb2I5DXr18D8UNQ9pOBNAjK8RAGx0PqeY4czAYYGRkBokNMEAVx+wWMLBjlcwCIu6IEZ7vFI5m2ddO0i+1BOR4SDbVd/8gHrfaI2+DgIBAP3K4j/6JAq5wvX75oWwpoU1NTavv06RMQfbEHcP369eN2xUlQjocwOB5Si2CSscr2CERB1y4EZZtFygsQBWlbumhsbNS25DLT09Nqcx35b29vT9aJfQTleEhNOXfv3gXg2bNnart06RIQz3Zl2rbrstnZWSCe7cq1EJU57M6GBG977vnGjRsJexEnKMdDGBwPqbmV7Js/f/5cbefPnwfi+cv79++B+CJTgrS12S0e2c6xNWv5rc2ardulQVCOh9SUc//+fQCqq6vVJiUGURDAkydPAGhqalKbbMLZabm3t1fb165dA2BoaEht7969A+Dx48fpdMBBUI6HMDgeUnMrWVC+efNGbd3d3UA8zxEXevr0qdokmI+OjqrNni2Ua4aHh9U2MDAAwIMHD9LpgIOgHA+J/rlQEuxULWsvW+CyR+UkIP9tgnI8hMHx8A9rTNjVSURR1AAAAABJRU5ErkJggg==\" y=\"-23.277828\"/>\n   </g>\n   <g id=\"patch_23\">\n    <path d=\"M 347.674576 94.277828 \nL 347.674576 23.345625 \n\" style=\"fill:none;\"/>\n   </g>\n   <g id=\"patch_24\">\n    <path d=\"M 418.60678 94.277828 \nL 418.60678 23.345625 \n\" style=\"fill:none;\"/>\n   </g>\n   <g id=\"patch_25\">\n    <path d=\"M 347.674576 94.277828 \nL 418.60678 94.277828 \n\" style=\"fill:none;\"/>\n   </g>\n   <g id=\"patch_26\">\n    <path d=\"M 347.674576 23.345625 \nL 418.60678 23.345625 \n\" style=\"fill:none;\"/>\n   </g>\n   <g id=\"text_5\">\n    <!-- dress -->\n    <defs>\n     <path d=\"M 40.09375 8.5 \nQ 37.640625 3.421875 33.609375 1.21875 \nQ 29.59375 -0.984375 23.640625 -0.984375 \nQ 13.625 -0.984375 8.90625 5.75 \nQ 4.203125 12.5 4.203125 26.171875 \nQ 4.203125 53.8125 23.640625 53.8125 \nQ 29.640625 53.8125 33.640625 51.609375 \nQ 37.640625 49.421875 40.09375 44.625 \nL 40.1875 44.625 \nQ 40.1875 45.125 40.15625 46.171875 \nQ 40.140625 47.21875 40.109375 48.359375 \nQ 40.09375 49.515625 40.09375 50.53125 \nQ 40.09375 51.5625 40.09375 52 \nL 40.09375 72.46875 \nL 48.875 72.46875 \nL 48.875 10.890625 \nQ 48.875 8.984375 48.890625 7.21875 \nQ 48.921875 5.46875 48.96875 4 \nQ 49.03125 2.546875 49.078125 1.484375 \nQ 49.125 0.4375 49.171875 0 \nL 40.765625 0 \nQ 40.671875 0.484375 40.59375 1.390625 \nQ 40.53125 2.296875 40.453125 3.46875 \nQ 40.375 4.640625 40.328125 5.9375 \nQ 40.28125 7.234375 40.28125 8.5 \nz\nM 13.421875 26.46875 \nQ 13.421875 21 14.109375 17.09375 \nQ 14.796875 13.1875 16.3125 10.671875 \nQ 17.828125 8.15625 20.171875 6.984375 \nQ 22.515625 5.8125 25.875 5.8125 \nQ 29.34375 5.8125 32 6.9375 \nQ 34.671875 8.0625 36.453125 10.578125 \nQ 38.234375 13.09375 39.15625 17.140625 \nQ 40.09375 21.1875 40.09375 27.046875 \nQ 40.09375 32.671875 39.15625 36.546875 \nQ 38.234375 40.4375 36.421875 42.828125 \nQ 34.625 45.21875 32 46.265625 \nQ 29.390625 47.3125 25.984375 47.3125 \nQ 22.75 47.3125 20.40625 46.1875 \nQ 18.0625 45.0625 16.5 42.578125 \nQ 14.9375 40.09375 14.171875 36.109375 \nQ 13.421875 32.125 13.421875 26.46875 \nz\n\" id=\"LiberationSans-100\"/>\n    </defs>\n    <g style=\"fill:#262626;\" transform=\"translate(366.024584 17.345625)scale(0.14 -0.14)\">\n     <use xlink:href=\"#LiberationSans-100\"/>\n     <use x=\"55.615234\" xlink:href=\"#LiberationSans-114\"/>\n     <use x=\"88.916016\" xlink:href=\"#LiberationSans-101\"/>\n     <use x=\"144.53125\" xlink:href=\"#LiberationSans-115\"/>\n     <use x=\"194.53125\" xlink:href=\"#LiberationSans-115\"/>\n    </g>\n   </g>\n  </g>\n  <g id=\"axes_6\">\n   <g id=\"patch_27\">\n    <path d=\"M 432.79322 94.277828 \nL 503.725424 94.277828 \nL 503.725424 23.345625 \nL 432.79322 23.345625 \nz\n\" style=\"fill:#eaeaf2;\"/>\n   </g>\n   <g clip-path=\"url(#p0ae0aecb8e)\">\n    <image height=\"71\" id=\"image7925f9eabe\" transform=\"scale(1 -1)translate(0 -71)\" width=\"71\" x=\"432.79322\" xlink:href=\"data:image/png;base64,\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\" y=\"-23.277828\"/>\n   </g>\n   <g id=\"patch_28\">\n    <path d=\"M 432.79322 94.277828 \nL 432.79322 23.345625 \n\" style=\"fill:none;\"/>\n   </g>\n   <g id=\"patch_29\">\n    <path d=\"M 503.725424 94.277828 \nL 503.725424 23.345625 \n\" style=\"fill:none;\"/>\n   </g>\n   <g id=\"patch_30\">\n    <path d=\"M 432.79322 94.277828 \nL 503.725424 94.277828 \n\" style=\"fill:none;\"/>\n   </g>\n   <g id=\"patch_31\">\n    <path d=\"M 432.79322 23.345625 \nL 503.725424 23.345625 \n\" style=\"fill:none;\"/>\n   </g>\n   <g id=\"text_6\">\n    <!-- coat -->\n    <defs>\n     <path d=\"M 13.421875 26.65625 \nQ 13.421875 22.125 14.078125 18.3125 \nQ 14.75 14.5 16.3125 11.734375 \nQ 17.875 8.984375 20.4375 7.46875 \nQ 23 5.953125 26.765625 5.953125 \nQ 31.453125 5.953125 34.59375 8.484375 \nQ 37.75 11.03125 38.484375 16.3125 \nL 47.359375 15.71875 \nQ 46.921875 12.453125 45.453125 9.421875 \nQ 44 6.390625 41.484375 4.09375 \nQ 38.96875 1.8125 35.34375 0.40625 \nQ 31.734375 -0.984375 27 -0.984375 \nQ 20.796875 -0.984375 16.453125 1.109375 \nQ 12.109375 3.21875 9.390625 6.90625 \nQ 6.6875 10.59375 5.46875 15.59375 \nQ 4.25 20.609375 4.25 26.46875 \nQ 4.25 31.78125 5.125 35.859375 \nQ 6 39.9375 7.59375 42.984375 \nQ 9.1875 46.046875 11.328125 48.125 \nQ 13.484375 50.203125 15.984375 51.4375 \nQ 18.5 52.6875 21.28125 53.25 \nQ 24.078125 53.8125 26.90625 53.8125 \nQ 31.34375 53.8125 34.8125 52.59375 \nQ 38.28125 51.375 40.796875 49.25 \nQ 43.3125 47.125 44.875 44.234375 \nQ 46.4375 41.359375 47.078125 38.03125 \nL 38.03125 37.359375 \nQ 37.359375 41.75 34.5625 44.328125 \nQ 31.78125 46.921875 26.65625 46.921875 \nQ 22.90625 46.921875 20.390625 45.671875 \nQ 17.875 44.4375 16.3125 41.921875 \nQ 14.75 39.40625 14.078125 35.59375 \nQ 13.421875 31.78125 13.421875 26.65625 \nz\n\" id=\"LiberationSans-99\"/>\n    </defs>\n    <g style=\"fill:#262626;\" transform=\"translate(455.029322 17.345625)scale(0.14 -0.14)\">\n     <use xlink:href=\"#LiberationSans-99\"/>\n     <use x=\"50\" xlink:href=\"#LiberationSans-111\"/>\n     <use x=\"105.615234\" xlink:href=\"#LiberationSans-97\"/>\n     <use x=\"161.230469\" xlink:href=\"#LiberationSans-116\"/>\n    </g>\n   </g>\n  </g>\n  <g id=\"axes_7\">\n   <g id=\"patch_32\">\n    <path d=\"M 517.911864 94.277828 \nL 588.844068 94.277828 \nL 588.844068 23.345625 \nL 517.911864 23.345625 \nz\n\" style=\"fill:#eaeaf2;\"/>\n   </g>\n   <g clip-path=\"url(#p2c8cb4678b)\">\n    <image height=\"71\" id=\"imagef6b9bc9258\" transform=\"scale(1 -1)translate(0 -71)\" width=\"71\" x=\"517.911864\" xlink:href=\"data:image/png;base64,\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\" y=\"-23.277828\"/>\n   </g>\n   <g id=\"patch_33\">\n    <path d=\"M 517.911864 94.277828 \nL 517.911864 23.345625 \n\" style=\"fill:none;\"/>\n   </g>\n   <g id=\"patch_34\">\n    <path d=\"M 588.844068 94.277828 \nL 588.844068 23.345625 \n\" style=\"fill:none;\"/>\n   </g>\n   <g id=\"patch_35\">\n    <path d=\"M 517.911864 94.277828 \nL 588.844068 94.277828 \n\" style=\"fill:none;\"/>\n   </g>\n   <g id=\"patch_36\">\n    <path d=\"M 517.911864 23.345625 \nL 588.844068 23.345625 \n\" style=\"fill:none;\"/>\n   </g>\n   <g id=\"text_7\">\n    <!-- coat -->\n    <g style=\"fill:#262626;\" transform=\"translate(540.147966 17.345625)scale(0.14 -0.14)\">\n     <use xlink:href=\"#LiberationSans-99\"/>\n     <use x=\"50\" xlink:href=\"#LiberationSans-111\"/>\n     <use x=\"105.615234\" xlink:href=\"#LiberationSans-97\"/>\n     <use x=\"161.230469\" xlink:href=\"#LiberationSans-116\"/>\n    </g>\n   </g>\n  </g>\n  <g id=\"axes_8\">\n   <g id=\"patch_37\">\n    <path d=\"M 603.030508 94.277828 \nL 673.962712 94.277828 \nL 673.962712 23.345625 \nL 603.030508 23.345625 \nz\n\" style=\"fill:#eaeaf2;\"/>\n   </g>\n   <g clip-path=\"url(#p2a1aa459d5)\">\n    <image height=\"71\" id=\"imageb65ec617ed\" transform=\"scale(1 -1)translate(0 -71)\" width=\"71\" x=\"603.030508\" xlink:href=\"data:image/png;base64,\niVBORw0KGgoAAAANSUhEUgAAAEcAAABHCAYAAABVsFofAAAABHNCSVQICAgIfAhkiAAAAu1JREFUeJztmjsvbFEYhp9hXOISEhFBItEpNDqFQifEj1Dp6FRqhUSpUiChoXepFCKRSDSiIaLSCIlLSAhmTrW/2XNmvIeTOTnnJO/TWPNG1loe37f2XiGTz+fzmLJU/e0N/MtYjsByBJYjsByB5QgsR2A5AssRWI7AcgSWI7AcgeUILEdgOQLLEViOwHIEliOwHIHlCCxHYDmCbPrD4+MjAHd3d5G9vLwAUF1dHVlDQwMAl5eXJRO+vr7GuLa2FoBcLvftjaXXq6mpKZmnt7cXgPr6+siOj49L9tXU1ARAJpOJLJvNFn0FeHh4AGB4eDgyV47AcgTZm5ub+HB9fQ3A+/t7ZD09PQCcnp5Gtrq6CsDy8nJk9/f3ny6SbpFyf5pP1nt7e4usqqrwe/v4+ACgo6MjssXFRQCmp6cjGx0dBWBtbS2y8/NzoNDiUNxiCcnabW1thT18+hMZMr/zXxbd3d0AbGxsRDY0NFS5XX3C8/NzjPv7+wHo6+uLbGdnp6LruXIEliPI5HK5krYqd2Clubi4AGB2djayw8NDAGZmZiKbmJgAoLm5Wc5XrrPTe0jaaWBgILKrqysA0g+UxsbGb62RHPRQeGik13XlCCxH8FtPq3I8PT0BcHJyEtn6+jpQaDmAubk5AMbGxr48d/L+klxlADo7OwE4ODiIrKWlBYCFhYXIRkZGvrzOz7hyBF+unF8dmor0RXBpaQmAra2tyLa3twFob2+PbGpqKsa3t7cArKysRNba2grA7u5uZJOTk0DxG35XVxcA4+PjJd+Xfhuuq6sr2bcrR2A5goodyN9tu7OzsxgnZT44OBjZ0dFRjDc3N4Hitvsq+/v7QPFlNLn+zM/PR5a0bvpdyZUjqFjllENNXa6q9vb2Ypy+UCaHaqVJ76/cflw5AssR/NG2+t9x5QgsR2A5AssRWI7AcgSWI7AcgeUILEdgOQLLEViOwHIEliOwHIHlCCxHYDkCyxFYjsByBJYjsBzBD8nj2aJ60HBEAAAAAElFTkSuQmCC\" y=\"-23.277828\"/>\n   </g>\n   <g id=\"patch_38\">\n    <path d=\"M 603.030508 94.277828 \nL 603.030508 23.345625 \n\" style=\"fill:none;\"/>\n   </g>\n   <g id=\"patch_39\">\n    <path d=\"M 673.962712 94.277828 \nL 673.962712 23.345625 \n\" style=\"fill:none;\"/>\n   </g>\n   <g id=\"patch_40\">\n    <path d=\"M 603.030508 94.277828 \nL 673.962712 94.277828 \n\" style=\"fill:none;\"/>\n   </g>\n   <g id=\"patch_41\">\n    <path d=\"M 603.030508 23.345625 \nL 673.962712 23.345625 \n\" style=\"fill:none;\"/>\n   </g>\n   <g id=\"text_8\">\n    <!-- sandal -->\n    <g style=\"fill:#262626;\" transform=\"translate(617.870673 17.345625)scale(0.14 -0.14)\">\n     <use xlink:href=\"#LiberationSans-115\"/>\n     <use x=\"50\" xlink:href=\"#LiberationSans-97\"/>\n     <use x=\"105.615234\" xlink:href=\"#LiberationSans-110\"/>\n     <use x=\"161.230469\" xlink:href=\"#LiberationSans-100\"/>\n     <use x=\"216.845703\" xlink:href=\"#LiberationSans-97\"/>\n     <use x=\"272.460938\" xlink:href=\"#LiberationSans-108\"/>\n    </g>\n   </g>\n  </g>\n  <g id=\"axes_9\">\n   <g id=\"patch_42\">\n    <path d=\"M 688.149153 94.277828 \nL 759.081356 94.277828 \nL 759.081356 23.345625 \nL 688.149153 23.345625 \nz\n\" style=\"fill:#eaeaf2;\"/>\n   </g>\n   <g clip-path=\"url(#pb417d8acb9)\">\n    <image height=\"71\" id=\"image1593891a4f\" transform=\"scale(1 -1)translate(0 -71)\" width=\"71\" x=\"688.149153\" xlink:href=\"data:image/png;base64,\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\" y=\"-23.277828\"/>\n   </g>\n   <g id=\"patch_43\">\n    <path d=\"M 688.149153 94.277828 \nL 688.149153 23.345625 \n\" style=\"fill:none;\"/>\n   </g>\n   <g id=\"patch_44\">\n    <path d=\"M 759.081356 94.277828 \nL 759.081356 23.345625 \n\" style=\"fill:none;\"/>\n   </g>\n   <g id=\"patch_45\">\n    <path d=\"M 688.149153 94.277828 \nL 759.081356 94.277828 \n\" style=\"fill:none;\"/>\n   </g>\n   <g id=\"patch_46\">\n    <path d=\"M 688.149153 23.345625 \nL 759.081356 23.345625 \n\" style=\"fill:none;\"/>\n   </g>\n   <g id=\"text_9\">\n    <!-- coat -->\n    <g style=\"fill:#262626;\" transform=\"translate(710.385254 17.345625)scale(0.14 -0.14)\">\n     <use xlink:href=\"#LiberationSans-99\"/>\n     <use x=\"50\" xlink:href=\"#LiberationSans-111\"/>\n     <use x=\"105.615234\" xlink:href=\"#LiberationSans-97\"/>\n     <use x=\"161.230469\" xlink:href=\"#LiberationSans-116\"/>\n    </g>\n   </g>\n  </g>\n  <g id=\"axes_10\">\n   <g id=\"patch_47\">\n    <path d=\"M 773.267797 94.277828 \nL 844.2 94.277828 \nL 844.2 23.345625 \nL 773.267797 23.345625 \nz\n\" style=\"fill:#eaeaf2;\"/>\n   </g>\n   <g clip-path=\"url(#p85313b88e8)\">\n    <image height=\"71\" id=\"imagebe8fdf2f26\" transform=\"scale(1 -1)translate(0 -71)\" width=\"71\" x=\"773.267797\" xlink:href=\"data:image/png;base64,\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\" y=\"-23.277828\"/>\n   </g>\n   <g id=\"patch_48\">\n    <path d=\"M 773.267797 94.277828 \nL 773.267797 23.345625 \n\" style=\"fill:none;\"/>\n   </g>\n   <g id=\"patch_49\">\n    <path d=\"M 844.2 94.277828 \nL 844.2 23.345625 \n\" style=\"fill:none;\"/>\n   </g>\n   <g id=\"patch_50\">\n    <path d=\"M 773.267797 94.277828 \nL 844.2 94.277828 \n\" style=\"fill:none;\"/>\n   </g>\n   <g id=\"patch_51\">\n    <path d=\"M 773.267797 23.345625 \nL 844.2 23.345625 \n\" style=\"fill:none;\"/>\n   </g>\n   <g id=\"text_10\">\n    <!-- bag -->\n    <defs>\n     <path d=\"M 26.765625 -20.75 \nQ 22.21875 -20.75 18.703125 -19.8125 \nQ 15.1875 -18.890625 12.6875 -17.15625 \nQ 10.203125 -15.4375 8.640625 -13.03125 \nQ 7.078125 -10.640625 6.390625 -7.71875 \nL 15.234375 -6.453125 \nQ 16.109375 -10.109375 19.109375 -12.078125 \nQ 22.125 -14.0625 27 -14.0625 \nQ 29.984375 -14.0625 32.421875 -13.234375 \nQ 34.859375 -12.40625 36.5625 -10.5625 \nQ 38.28125 -8.734375 39.203125 -5.796875 \nQ 40.140625 -2.875 40.140625 1.3125 \nL 40.140625 9.8125 \nL 40.046875 9.8125 \nQ 39.0625 7.8125 37.625 5.984375 \nQ 36.1875 4.15625 34.109375 2.734375 \nQ 32.03125 1.3125 29.296875 0.453125 \nQ 26.5625 -0.390625 23.046875 -0.390625 \nQ 18.015625 -0.390625 14.421875 1.296875 \nQ 10.84375 2.984375 8.5625 6.34375 \nQ 6.296875 9.71875 5.25 14.71875 \nQ 4.203125 19.734375 4.203125 26.3125 \nQ 4.203125 32.671875 5.25 37.75 \nQ 6.296875 42.828125 8.65625 46.359375 \nQ 11.03125 49.90625 14.8125 51.78125 \nQ 18.609375 53.65625 24.03125 53.65625 \nQ 29.640625 53.65625 33.765625 51.09375 \nQ 37.890625 48.53125 40.140625 43.796875 \nL 40.234375 43.796875 \nQ 40.234375 45.015625 40.296875 46.53125 \nQ 40.375 48.046875 40.453125 49.390625 \nQ 40.53125 50.734375 40.625 51.703125 \nQ 40.71875 52.6875 40.828125 52.828125 \nL 49.171875 52.828125 \nQ 49.125 52.390625 49.078125 51.34375 \nQ 49.03125 50.296875 48.96875 48.828125 \nQ 48.921875 47.359375 48.890625 45.578125 \nQ 48.875 43.796875 48.875 41.890625 \nL 48.875 1.515625 \nQ 48.875 -9.578125 43.421875 -15.15625 \nQ 37.984375 -20.75 26.765625 -20.75 \nz\nM 40.140625 26.421875 \nQ 40.140625 31.9375 38.9375 35.859375 \nQ 37.75 39.796875 35.796875 42.28125 \nQ 33.84375 44.78125 31.328125 45.953125 \nQ 28.8125 47.125 26.171875 47.125 \nQ 22.796875 47.125 20.375 45.953125 \nQ 17.96875 44.78125 16.375 42.265625 \nQ 14.796875 39.75 14.03125 35.8125 \nQ 13.28125 31.890625 13.28125 26.421875 \nQ 13.28125 20.703125 14.03125 16.8125 \nQ 14.796875 12.9375 16.359375 10.546875 \nQ 17.921875 8.15625 20.3125 7.125 \nQ 22.703125 6.109375 26.03125 6.109375 \nQ 28.65625 6.109375 31.171875 7.21875 \nQ 33.6875 8.34375 35.6875 10.78125 \nQ 37.703125 13.234375 38.921875 17.09375 \nQ 40.140625 20.953125 40.140625 26.421875 \nz\n\" id=\"LiberationSans-103\"/>\n    </defs>\n    <g style=\"fill:#262626;\" transform=\"translate(797.05593 17.345625)scale(0.14 -0.14)\">\n     <use xlink:href=\"#LiberationSans-98\"/>\n     <use x=\"55.615234\" xlink:href=\"#LiberationSans-97\"/>\n     <use x=\"111.230469\" xlink:href=\"#LiberationSans-103\"/>\n    </g>\n   </g>\n  </g>\n </g>\n <defs>\n  <clipPath id=\"p213b34f734\">\n   <rect height=\"70.932203\" width=\"70.932203\" x=\"7.2\" y=\"23.345625\"/>\n  </clipPath>\n  <clipPath id=\"p6ac1259e87\">\n   <rect height=\"70.932203\" width=\"70.932203\" x=\"92.318644\" y=\"23.345625\"/>\n  </clipPath>\n  <clipPath id=\"p4445c41901\">\n   <rect height=\"70.932203\" width=\"70.932203\" x=\"177.437288\" y=\"23.345625\"/>\n  </clipPath>\n  <clipPath id=\"pdd19059d07\">\n   <rect height=\"70.932203\" width=\"70.932203\" x=\"262.555932\" y=\"23.345625\"/>\n  </clipPath>\n  <clipPath id=\"pd9e7162a77\">\n   <rect height=\"70.932203\" width=\"70.932203\" x=\"347.674576\" y=\"23.345625\"/>\n  </clipPath>\n  <clipPath id=\"p0ae0aecb8e\">\n   <rect height=\"70.932203\" width=\"70.932203\" x=\"432.79322\" y=\"23.345625\"/>\n  </clipPath>\n  <clipPath id=\"p2c8cb4678b\">\n   <rect height=\"70.932203\" width=\"70.932203\" x=\"517.911864\" y=\"23.345625\"/>\n  </clipPath>\n  <clipPath id=\"p2a1aa459d5\">\n   <rect height=\"70.932203\" width=\"70.932203\" x=\"603.030508\" y=\"23.345625\"/>\n  </clipPath>\n  <clipPath id=\"pb417d8acb9\">\n   <rect height=\"70.932203\" width=\"70.932203\" x=\"688.149153\" y=\"23.345625\"/>\n  </clipPath>\n  <clipPath id=\"p85313b88e8\">\n   <rect height=\"70.932203\" width=\"70.932203\" x=\"773.267797\" y=\"23.345625\"/>\n  </clipPath>\n </defs>\n</svg>\n"
          },
          "metadata": {
            "tags": []
          }
        }
      ]
    },
    {
      "metadata": {
        "id": "5394Q-Z56Mfb",
        "colab_type": "code",
        "colab": {}
      },
      "cell_type": "code",
      "source": [
        "\n",
        "transformer = transforms.Compose([\n",
        "    transforms.ToTensor(),\n",
        "    transforms.Normalize(0.13, 0.31)])\n",
        "mnist_train = mnist_train.transform_first(transformer)"
      ],
      "execution_count": 0,
      "outputs": []
    },
    {
      "metadata": {
        "id": "nWfpOTQn6932",
        "colab_type": "code",
        "colab": {}
      },
      "cell_type": "code",
      "source": [
        "\n",
        "batch_size = 256\n",
        "train_data = gluon.data.DataLoader(\n",
        "    mnist_train, batch_size=batch_size, shuffle=True, num_workers=4)"
      ],
      "execution_count": 0,
      "outputs": []
    },
    {
      "metadata": {
        "id": "jH-nnNHZ69_q",
        "colab_type": "code",
        "colab": {
          "base_uri": "https://localhost:8080/",
          "height": 70
        },
        "outputId": "f3df6c31-109c-4e43-a71b-4e22b5fa8241"
      },
      "cell_type": "code",
      "source": [
        "mnist_valid = gluon.data.vision.FashionMNIST(train=False)\n",
        "valid_data = gluon.data.DataLoader(\n",
        "    mnist_valid.transform_first(transformer),\n",
        "    batch_size=batch_size, num_workers=4)"
      ],
      "execution_count": 8,
      "outputs": [
        {
          "output_type": "stream",
          "text": [
            "Downloading /root/.mxnet/datasets/fashion-mnist/t10k-images-idx3-ubyte.gz from https://apache-mxnet.s3-accelerate.dualstack.amazonaws.com/gluon/dataset/fashion-mnist/t10k-images-idx3-ubyte.gz...\n",
            "Downloading /root/.mxnet/datasets/fashion-mnist/t10k-labels-idx1-ubyte.gz from https://apache-mxnet.s3-accelerate.dualstack.amazonaws.com/gluon/dataset/fashion-mnist/t10k-labels-idx1-ubyte.gz...\n"
          ],
          "name": "stdout"
        }
      ]
    },
    {
      "metadata": {
        "id": "8dUa6ZVa699c",
        "colab_type": "code",
        "colab": {}
      },
      "cell_type": "code",
      "source": [
        "net = nn.Sequential()\n",
        "net.add(nn.Conv2D(channels=6, kernel_size=5, activation='relu'),\n",
        "        nn.MaxPool2D(pool_size=2, strides=2),\n",
        "        nn.Conv2D(channels=16, kernel_size=3, activation='relu'),\n",
        "        nn.MaxPool2D(pool_size=2, strides=2),\n",
        "        nn.Flatten(),\n",
        "        nn.Dense(120, activation=\"relu\"),\n",
        "        nn.Dense(84, activation=\"relu\"),\n",
        "        nn.Dense(10))\n",
        "net.initialize(init=init.Xavier())"
      ],
      "execution_count": 0,
      "outputs": []
    },
    {
      "metadata": {
        "id": "KIpaygF4697Z",
        "colab_type": "code",
        "colab": {}
      },
      "cell_type": "code",
      "source": [
        "softmax_cross_entropy = gluon.loss.SoftmaxCrossEntropyLoss()"
      ],
      "execution_count": 0,
      "outputs": []
    },
    {
      "metadata": {
        "id": "D3H0g3EH7LaL",
        "colab_type": "code",
        "colab": {}
      },
      "cell_type": "code",
      "source": [
        "trainer = gluon.Trainer(net.collect_params(), 'sgd', {'learning_rate': 0.1})"
      ],
      "execution_count": 0,
      "outputs": []
    },
    {
      "metadata": {
        "id": "K2ZXvJPv7N7F",
        "colab_type": "code",
        "colab": {}
      },
      "cell_type": "code",
      "source": [
        "def acc(output, label):\n",
        "    # output: (batch, num_output) float32 ndarray\n",
        "    # label: (batch, ) int32 ndarray\n",
        "    return (output.argmax(axis=1) ==\n",
        "            label.astype('float32')).mean().asscalar()"
      ],
      "execution_count": 0,
      "outputs": []
    },
    {
      "metadata": {
        "id": "JeU3pTC27N_f",
        "colab_type": "code",
        "colab": {
          "base_uri": "https://localhost:8080/",
          "height": 185
        },
        "outputId": "9315045f-e147-4de2-d0e3-dabea76339a8"
      },
      "cell_type": "code",
      "source": [
        "for epoch in range(10):\n",
        "    train_loss, train_acc, valid_acc = 0., 0., 0.\n",
        "    tic = time.time()\n",
        "    for data, label in train_data:\n",
        "        # forward + backward\n",
        "        with autograd.record():\n",
        "            output = net(data)\n",
        "            loss = softmax_cross_entropy(output, label)\n",
        "        loss.backward()\n",
        "        # update parameters\n",
        "        trainer.step(batch_size)\n",
        "        # calculate training metrics\n",
        "        train_loss += loss.mean().asscalar()\n",
        "        train_acc += acc(output, label)\n",
        "    # calculate validation accuracy\n",
        "    for data, label in valid_data:\n",
        "        valid_acc += acc(net(data), label)\n",
        "    print(\"Epoch %d: loss %.3f, train acc %.3f, test acc %.3f, in %.1f sec\" % (\n",
        "            epoch, train_loss/len(train_data), train_acc/len(train_data),\n",
        "            valid_acc/len(valid_data), time.time()-tic))"
      ],
      "execution_count": 13,
      "outputs": [
        {
          "output_type": "stream",
          "text": [
            "Epoch 0: loss 0.856, train acc 0.692, test acc 0.825, in 19.7 sec\n",
            "Epoch 1: loss 0.467, train acc 0.825, test acc 0.848, in 19.8 sec\n",
            "Epoch 2: loss 0.404, train acc 0.851, test acc 0.866, in 20.0 sec\n",
            "Epoch 3: loss 0.368, train acc 0.864, test acc 0.871, in 19.9 sec\n",
            "Epoch 4: loss 0.339, train acc 0.875, test acc 0.875, in 19.9 sec\n",
            "Epoch 5: loss 0.322, train acc 0.882, test acc 0.884, in 20.2 sec\n",
            "Epoch 6: loss 0.307, train acc 0.886, test acc 0.891, in 20.3 sec\n",
            "Epoch 7: loss 0.295, train acc 0.891, test acc 0.888, in 20.1 sec\n",
            "Epoch 8: loss 0.284, train acc 0.895, test acc 0.892, in 19.8 sec\n",
            "Epoch 9: loss 0.276, train acc 0.898, test acc 0.897, in 19.8 sec\n"
          ],
          "name": "stdout"
        }
      ]
    },
    {
      "metadata": {
        "id": "-AiFXJj37OCq",
        "colab_type": "code",
        "colab": {}
      },
      "cell_type": "code",
      "source": [
        "net.save_parameters('net.params')"
      ],
      "execution_count": 0,
      "outputs": []
    },
    {
      "metadata": {
        "id": "I-qS-ODD7Lcz",
        "colab_type": "code",
        "colab": {}
      },
      "cell_type": "code",
      "source": [
        ""
      ],
      "execution_count": 0,
      "outputs": []
    }
  ]
}